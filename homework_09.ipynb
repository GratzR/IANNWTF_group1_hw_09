{
  "nbformat": 4,
  "nbformat_minor": 0,
  "metadata": {
    "accelerator": "GPU",
    "colab": {
      "name": "homework_09.ipynb",
      "provenance": [],
      "collapsed_sections": []
    },
    "kernelspec": {
      "display_name": "Python 3",
      "name": "python3"
    }
  },
  "cells": [
    {
      "cell_type": "code",
      "metadata": {
        "id": "CjAttJdIc7zw"
      },
      "source": [
        "import tensorflow as tf\n",
        "import matplotlib.pyplot as plt\n",
        "import matplotlib as mpl\n",
        "from scipy import signal\n",
        "import numpy as np\n",
        "from random import randint"
      ],
      "execution_count": 1,
      "outputs": []
    },
    {
      "cell_type": "code",
      "metadata": {
        "colab": {
          "base_uri": "https://localhost:8080/"
        },
        "id": "VG7BStv0uQ5i",
        "outputId": "8fa521d5-113f-43f1-e176-525edfb71f5a"
      },
      "source": [
        "class Task():\n",
        "\n",
        "  def __init__(self, batch_size=32, length=25, size=1):\n",
        "        self.batch_size = batch_size\n",
        "        self.length = length\n",
        "        self.size = size\n",
        "\n",
        "  def generate_sample(self, length = None):\n",
        "    length = (length or self.length)\n",
        "\n",
        "    context = list(np.random.choice(np.arange(0, 9), 2, replace=False))\n",
        "\n",
        "    sequence = [randint(0,9) for _ in range(length)]\n",
        "\n",
        "    target = 0 if sequence.count(context[0]) > sequence.count(context[1]) else 1\n",
        "\n",
        "    sequence_final = []\n",
        "\n",
        "    for element in sequence:\n",
        "      copy_context = context.copy()\n",
        "      copy_context.append(element)\n",
        "\n",
        "      sequence_final.append(tf.reshape(tf.one_hot(copy_context, 10), (30)))\n",
        "\n",
        "    return tf.squeeze(tf.convert_to_tensor(sequence_final)), target\n",
        "    \n",
        "\n",
        "  def generate_batch(self, length=None, batch_size=None, size=None):\n",
        "    length = (length or self.length)\n",
        "    batch_size = (batch_size or self.batch_size)\n",
        "    size = (size or self.size)\n",
        "\n",
        "    batch = [self.generate_sample(length) for _ in range(batch_size)]\n",
        "\n",
        "    samples, targets = zip(*[(sample[0], sample[1]) for sample in batch])\n",
        "\n",
        "    return tf.convert_to_tensor(samples), targets\n",
        "\n",
        "\n",
        "task = Task()\n",
        "samples, targets = task.generate_batch()\n",
        "\n",
        "print(samples.shape)\n",
        "print(len(targets))"
      ],
      "execution_count": 2,
      "outputs": [
        {
          "output_type": "stream",
          "text": [
            "(32, 25, 30)\n",
            "32\n"
          ],
          "name": "stdout"
        }
      ]
    },
    {
      "cell_type": "code",
      "metadata": {
        "id": "arWuPj3djUaA"
      },
      "source": [
        "class LSTM_Cell(tf.keras.Model):\n",
        "\n",
        "  def __init__(self, hidden_size):\n",
        "        super(LSTM_Cell, self).__init__()\n",
        "        self.input_gate = tf.keras.layers.Dense(hidden_size, activation=tf.keras.activations.sigmoid)\n",
        "        self.forget_gate = tf.keras.layers.Dense(hidden_size, activation=tf.keras.activations.sigmoid, bias_initializer=\"ones\")\n",
        "        self.output_gate = tf.keras.layers.Dense(hidden_size, activation=tf.keras.activations.sigmoid)\n",
        "        self.cell_state_candidates = tf.keras.layers.Dense(hidden_size, activation=tf.keras.activations.tanh)\n",
        "\n",
        "  def call(self, input, states):\n",
        "        hidden_state = states[0]\n",
        "        cell_state = states[1]\n",
        "\n",
        "        concat_input = tf.concat([hidden_state, input], axis=2)\n",
        "        cell_state = tf.multiply(cell_state, self.forget_gate(concat_input))\n",
        "        update = tf.multiply(self.input_gate(concat_input), self.cell_state_candidates(concat_input))\n",
        "        cell_state = tf.add(cell_state, update)\n",
        "        output = tf.multiply(tf.keras.activations.tanh(cell_state), self.output_gate(concat_input))\n",
        "\n",
        "        return (output, cell_state)"
      ],
      "execution_count": 3,
      "outputs": []
    },
    {
      "cell_type": "code",
      "metadata": {
        "id": "4wEGt9AFs-D6"
      },
      "source": [
        "class LSTM(tf.keras.Model):\n",
        "  def __init__(self, hidden_size):\n",
        "    super(LSTM, self).__init__()\n",
        "    self.cell = LSTM_Cell(hidden_size)\n",
        "\n",
        "    self.hidden_size = hidden_size\n",
        "\n",
        "  def call(self, batch, states):\n",
        "    predictions = []\n",
        "\n",
        "    for sequence in batch:\n",
        "\n",
        "      for input in sequence:\n",
        "\n",
        "        input = tf.expand_dims(tf.expand_dims(input, 0), 0)\n",
        "\n",
        "        states = self.cell(input, states)\n",
        "\n",
        "      predictions.append(states[0])\n",
        "\n",
        "    predictions = tf.squeeze(tf.convert_to_tensor(predictions))\n",
        "\n",
        "    return predictions"
      ],
      "execution_count": 4,
      "outputs": []
    },
    {
      "cell_type": "code",
      "metadata": {
        "id": "7EwX3SVPtMvI"
      },
      "source": [
        "class LSTM_Model(tf.keras.Model):\n",
        "  def __init__(self, hidden_size):\n",
        "    super(LSTM_Model, self).__init__()\n",
        "    self.hidden_size = hidden_size\n",
        "\n",
        "    self.input_layer = tf.keras.layers.Dense(self.hidden_size, activation=tf.keras.activations.sigmoid)\n",
        "    self.lstm = LSTM(self.hidden_size)\n",
        "    self.output_layer = tf.keras.layers.Dense(1, activation=tf.keras.activations.sigmoid)\n",
        "\n",
        "  def init_states(self):\n",
        "\n",
        "    return (tf.zeros((1,1,self.hidden_size)), tf.zeros((1,1,self.hidden_size)))\n",
        "\n",
        "  def call(self, x, states):\n",
        "    x = self.input_layer(x)\n",
        "    x = self.lstm(x, states)\n",
        "    x = self.output_layer(x)\n",
        "\n",
        "    return x\n",
        "    "
      ],
      "execution_count": 5,
      "outputs": []
    },
    {
      "cell_type": "markdown",
      "metadata": {
        "id": "_XUVe6-abWWV"
      },
      "source": [
        "# Training"
      ]
    },
    {
      "cell_type": "code",
      "metadata": {
        "id": "AlRqKDvBbZym"
      },
      "source": [
        "def train_step(model, input, target, loss_function, optimizer):\n",
        "    \n",
        "    # loss_object and optimizer_object are instances of respective tensorflow classes\n",
        "    with tf.GradientTape() as tape:\n",
        "        zero_state = model.init_states()\n",
        "        prediction = model(input,zero_state)\n",
        "        loss = loss_function(target, prediction)\n",
        "        gradients = tape.gradient(loss, model.trainable_variables)\n",
        "    optimizer.apply_gradients(zip(gradients, model.trainable_variables))\n",
        "    \n",
        "    target = np.array([[[target_s] for target_s in list(target)]])\n",
        "    prediction = tf.expand_dims(prediction, 0)\n",
        "\n",
        "    # accuracy using a 0.5 threshold\n",
        "    acc = np.sum(np.abs((target-prediction))<0.5)/(target.shape[0]*target.shape[1])\n",
        "\n",
        "    return np.mean(loss), acc"
      ],
      "execution_count": 6,
      "outputs": []
    },
    {
      "cell_type": "code",
      "metadata": {
        "id": "hYTMlfdLbg1s"
      },
      "source": [
        "def train(model, task, steps=100, print_every=10, running_average_factor = 0.95):\n",
        "    \n",
        "    optimizer = tf.keras.optimizers.Adam()\n",
        "    cross_entropy_loss = tf.keras.losses.MSE\n",
        "\n",
        "    losses = []\n",
        "    acces = []\n",
        "\n",
        "    running_average_loss = 0\n",
        "    running_average_acc = 0\n",
        "    i=0\n",
        "\n",
        "    for i in range(steps):\n",
        "        # generating a new sample in each training step\n",
        "        sequence, target = task.generate_batch()\n",
        "        loss, acc = train_step(model, sequence, target, cross_entropy_loss, optimizer)\n",
        "        \n",
        "        # compute the running averages of training loss and accuracy\n",
        "        running_average_loss = running_average_factor * running_average_loss  + (1 - running_average_factor) * loss\n",
        "        running_average_acc = running_average_factor * running_average_acc  + (1 - running_average_factor) * acc\n",
        "        losses.append(running_average_loss)\n",
        "        acces.append(running_average_acc)\n",
        "        \n",
        "        if i%print_every==0:\n",
        "            print(f\"Training step {i}: average loss is {np.round(losses[-1],2)}, accuracy of {np.round(acces[-1], 2)} %\")\n",
        "        \n",
        "        if i == steps:\n",
        "            break\n",
        "        i+=1\n",
        "    \n",
        "    return losses, acces"
      ],
      "execution_count": 7,
      "outputs": []
    },
    {
      "cell_type": "code",
      "metadata": {
        "id": "3Su_MrLKbjz1"
      },
      "source": [
        "def visualize(losses, acces, name=''):\n",
        "    plt.figure()\n",
        "    plt.title(name)\n",
        "    line1, = plt.plot(losses)\n",
        "    plt.xlabel(\"Training steps\")\n",
        "    plt.ylabel(\"Loss\")\n",
        "    plt.show()\n",
        "    plt.figure()\n",
        "    line1, = plt.plot(acces)\n",
        "    plt.xlabel(\"Training steps\")\n",
        "    plt.ylabel(\"Accuracy\")\n",
        "    plt.show()"
      ],
      "execution_count": 8,
      "outputs": []
    },
    {
      "cell_type": "code",
      "metadata": {
        "colab": {
          "base_uri": "https://localhost:8080/",
          "height": 730
        },
        "id": "iIiIxLrMbly9",
        "outputId": "2798f63a-a7bf-4da6-d371-0c78df903459"
      },
      "source": [
        "model = LSTM_Model(hidden_size = 2)\n",
        "task = Task(length=25)\n",
        "losses, acces = train(model, task)\n",
        "visualize(losses, acces, 'lstm')"
      ],
      "execution_count": 9,
      "outputs": [
        {
          "output_type": "stream",
          "text": [
            "Training step 0: average loss is 0.01, accuracy of 0.03 %\n",
            "Training step 10: average loss is 0.11, accuracy of 0.24 %\n",
            "Training step 20: average loss is 0.16, accuracy of 0.38 %\n",
            "Training step 30: average loss is 0.2, accuracy of 0.49 %\n",
            "Training step 40: average loss is 0.22, accuracy of 0.52 %\n",
            "Training step 50: average loss is 0.23, accuracy of 0.55 %\n",
            "Training step 60: average loss is 0.24, accuracy of 0.55 %\n",
            "Training step 70: average loss is 0.24, accuracy of 0.57 %\n",
            "Training step 80: average loss is 0.24, accuracy of 0.59 %\n",
            "Training step 90: average loss is 0.24, accuracy of 0.58 %\n"
          ],
          "name": "stdout"
        },
        {
          "output_type": "display_data",
          "data": {
            "image/png": "[encoded data removed]",
            "text/plain": [
              "<Figure size 432x288 with 1 Axes>"
            ]
          },
          "metadata": {
            "tags": [],
            "needs_background": "light"
          }
        },
        {
          "output_type": "display_data",
          "data": {
            "image/png": "[encoded data removed]",
            "text/plain": [
              "<Figure size 432x288 with 1 Axes>"
            ]
          },
          "metadata": {
            "tags": [],
            "needs_background": "light"
          }
        }
      ]
    }
  ]
}